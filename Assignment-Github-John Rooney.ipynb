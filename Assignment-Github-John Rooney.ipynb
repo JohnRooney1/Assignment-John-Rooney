{
    "metadata": {
        "kernelspec": {
            "name": "SQL",
            "display_name": "SQL",
            "language": "sql"
        },
        "language_info": {
            "name": "sql",
            "version": ""
        }
    },
    "nbformat_minor": 2,
    "nbformat": 4,
    "cells": [
        {
            "cell_type": "markdown",
            "source": [
                "**Create the Schema DDL for the Database**\n",
                "\n",
                "This is the first step when creating the DataBase. \n",
                "\n",
                "In this case we are creating the database Targetmart II and in order insert tables, you must create the schema"
            ],
            "metadata": {
                "azdata_cell_guid": "0ed37bd9-f11e-462c-92d7-41bf4e6f0f01"
            },
            "attachments": {}
        },
        {
            "cell_type": "code",
            "source": [
                "IF NOT EXISTS (SELECT * FROM sys.schemas WHERE name = 'dim' ) \n",
                "BEGIN\n",
                "\tEXEC sp_executesql N'CREATE SCHEMA dim AUTHORIZATION dbo;'\n",
                "END\n",
                ";"
            ],
            "metadata": {
                "azdata_cell_guid": "a4899199-0136-4953-a0b4-1e5ed6d62639",
                "language": "sql"
            },
            "outputs": [],
            "execution_count": null
        },
        {
            "cell_type": "code",
            "source": [
                "IF NOT EXISTS (SELECT * FROM sys.schemas WHERE name = 'stg' ) \n",
                "BEGIN\n",
                "\tEXEC sp_executesql N'CREATE SCHEMA stg AUTHORIZATION dbo;'\n",
                "END\n",
                ";"
            ],
            "metadata": {
                "azdata_cell_guid": "28b3e002-148a-4fbb-b43e-620d7b061c17",
                "language": "sql"
            },
            "outputs": [],
            "execution_count": null
        },
        {
            "cell_type": "code",
            "source": [
                "IF NOT EXISTS (SELECT * FROM sys.schemas WHERE name = 'f' ) \n",
                "BEGIN\n",
                "\tEXEC sp_executesql N'CREATE SCHEMA f AUTHORIZATION dbo;'\n",
                "END\n",
                ";"
            ],
            "metadata": {
                "azdata_cell_guid": "f62e1a08-659a-404e-8521-135d3b9d1090",
                "language": "sql"
            },
            "outputs": [],
            "execution_count": null
        },
        {
            "cell_type": "markdown",
            "source": [
                "**Create the Customer Dim Table**\n",
                "\n",
                "This is the first dimension table we are creating into this schema.\n",
                "\n",
                "The first step is to create the table adding all of the necessary add ons\n",
                "\n",
                "Following is to add any constraints that are needed\n",
                "\n",
                "This will create the dim.Customers table into your schema and you will be able to use it in a sql server"
            ],
            "metadata": {
                "azdata_cell_guid": "60017eb2-dd29-4739-8879-0f6e8fde5358"
            },
            "attachments": {}
        },
        {
            "cell_type": "code",
            "source": [
                "IF NOT EXISTS (SELECT * FROM INFORMATION_SCHEMA.TABLES WHERE TABLE_SCHEMA = 'dim' AND TABLE_NAME = 'Customers')\r\n",
                "BEGIN\r\n",
                "\tCREATE TABLE dim.Customers(\r\n",
                "\tpkCustomer int IDENTITY(1000,1) NOT NULL,\r\n",
                "\tCustomerID nvarchar(5) NOT NULL,\r\n",
                "\tCustomer nvarchar(40) NOT NULL,\r\n",
                "\tCity nvarchar(15) NULL,\r\n",
                "\tCountry nvarchar(15) NULL,\r\n",
                "\tLoadDate DATE NOT NULL,\r\n",
                "\tSourceCountry nvarchar(25) NULL\r\n",
                "\t)\r\n",
                "\t;\r\n",
                "\r\n",
                "\tALTER TABLE dim.Customers\r\n",
                "\tADD CONSTRAINT PK_Customers_LUP PRIMARY KEY(pkCustomer);\r\n",
                "\r\n",
                "\tALTER TABLE dim.Customers\r\n",
                "    ADD CONSTRAINT UC_Customers_ID UNIQUE (CustomerID);\r\n",
                "\r\n",
                "END\r\n",
                "\r\n",
                "\r\n",
                "GO\r\n",
                ""
            ],
            "metadata": {
                "azdata_cell_guid": "bb6d57a6-3e06-4b42-b191-ea2a39806c7b",
                "language": "sql"
            },
            "outputs": [],
            "execution_count": null
        },
        {
            "cell_type": "markdown",
            "source": [
                "**Create the Calendar Dim Table**\n",
                "\n",
                "This is an extremely important part as it adds a time to the schema\n",
                "\n",
                "This is where we can add all of the important dates and times to the calendar\n",
                "\n",
                "The first step is to create the dim.Calendar table using all of the necessary times and dates\n",
                "\n",
                "The next step is to add any constraints\n",
                "\n",
                "Following this code will give you dim.Calendar where you can filter your data by month, year, day, etc."
            ],
            "metadata": {
                "azdata_cell_guid": "91390e85-8cbc-4519-87f9-06bd21f56db7"
            },
            "attachments": {}
        },
        {
            "cell_type": "code",
            "source": [
                "IF NOT EXISTS (SELECT * FROM INFORMATION_SCHEMA.TABLES WHERE TABLE_SCHEMA = 'dim' AND TABLE_NAME = 'Calendar')\r\n",
                "BEGIN\r\n",
                "-- Create the Calendar table\r\n",
                "CREATE TABLE dim.Calendar\r\n",
                "(\r\n",
                "    pkCalendar INT NOT NULL,\r\n",
                "    DateValue DATE NOT NULL,\r\n",
                "    Year INT NOT NULL,\r\n",
                "    Quarter INT NOT NULL,\r\n",
                "\tQtr VARCHAR(3) NOT NULL,\r\n",
                "    Month INT NOT NULL,\r\n",
                "    MonthName VARCHAR(10) NOT NULL,\r\n",
                "\tMonthShort VARCHAR(3) NOT NULL,\r\n",
                "    Week INT NOT NULL,\r\n",
                "    Day INT NOT NULL,\r\n",
                "\tDayName VARCHAR(10) NOT NULL,\r\n",
                "\tDayShort VARCHAR(3) NOT NULL,\r\n",
                "    IsWeekday BIT NOT NULL,\r\n",
                "\tWeekday VARCHAR(3) NOT NULL\r\n",
                ");\r\n",
                "\r\n",
                "\tALTER TABLE dim.Calendar\r\n",
                "\tADD CONSTRAINT PK_Calendar_Julian PRIMARY KEY(pkCalendar);\r\n",
                "\r\n",
                "\tALTER TABLE dim.Calendar\r\n",
                "    ADD CONSTRAINT UC_Calendar UNIQUE (DateValue);\r\n",
                "END\r\n",
                "\r\n",
                "GO\r\n",
                ""
            ],
            "metadata": {
                "azdata_cell_guid": "6aa69e8d-a04f-4977-b965-5a1dedcd8c08",
                "language": "sql"
            },
            "outputs": [],
            "execution_count": null
        },
        {
            "cell_type": "markdown",
            "source": [
                "**Create the Shipper Dim Table**\n",
                "\n",
                "This is the next dimension table we are creating into this schema.\n",
                "\n",
                "The first step is to create the table adding all of the necessary add ons\n",
                "\n",
                "Following is to add any constraints that are needed\n",
                "\n",
                "This will create the dim.Shipper table into your schema and you will be able to use it in a sql server"
            ],
            "metadata": {
                "azdata_cell_guid": "7f932ad6-8899-45b4-a5a4-bd6beb14a46e"
            },
            "attachments": {}
        },
        {
            "cell_type": "code",
            "source": [
                "IF NOT EXISTS (SELECT * FROM INFORMATION_SCHEMA.TABLES WHERE TABLE_SCHEMA = 'dim' AND TABLE_NAME = 'Shipper')\r\n",
                "BEGIN\r\n",
                "\r\n",
                "CREATE TABLE dim.Shipper\r\n",
                "(\r\n",
                "    pkShipId int not null,\r\n",
                "\tShipper nvarchar(40) not null,\r\n",
                "\tPhone nvarchar(24) null\r\n",
                ");\r\n",
                "\r\n",
                "\tALTER TABLE dim.Shipper\r\n",
                "\tADD CONSTRAINT PK_Ship PRIMARY KEY(pkShipId);\r\n",
                "END\r\n",
                "\r\n",
                "GO"
            ],
            "metadata": {
                "azdata_cell_guid": "c0ea32ba-3a98-44ed-ada9-3cc7c0ac4c3f",
                "language": "sql"
            },
            "outputs": [],
            "execution_count": null
        },
        {
            "cell_type": "markdown",
            "source": [
                "**Create the Products Dim Table**\n",
                "\n",
                "This is the next dimension table we are creating into this schema.\n",
                "\n",
                "The first step is to create the table adding all of the necessary add ons\n",
                "\n",
                "Following is to add any constraints that are needed\n",
                "\n",
                "This will create the dim.Products table into your schema and you will be able to use it in a sql server"
            ],
            "metadata": {
                "azdata_cell_guid": "abbc136b-6436-4c81-b16c-12d7aad252d0"
            },
            "attachments": {}
        },
        {
            "cell_type": "code",
            "source": [
                "IF NOT EXISTS (SELECT * FROM INFORMATION_SCHEMA.TABLES WHERE TABLE_SCHEMA = 'dim' AND TABLE_NAME = 'Products')\r\n",
                "BEGIN\r\n",
                "CREATE TABLE dim.Products(\r\n",
                "\tpkProdId int NOT NULL,\r\n",
                "\tProductId int NOT NULL,\r\n",
                "\tProduct nvarchar(50) NOT NULL,\r\n",
                "\tProductCategory nvarchar(25) NOT NULL,\r\n",
                "\tCategoryDesc ntext NULL,\r\n",
                "\tUnitPrice money NULL,\r\n",
                "\tUnitsInStock int NULL,\r\n",
                "\tUnitsOnOrder int NULL,\r\n",
                "\tReorderLevel int NULL,\r\n",
                "\tDiscontinued bit NOT NULL,\r\n",
                "\tReorderFlag nvarchar(3) NOT NULL\r\n",
                ");\r\n",
                "\r\n",
                "\tALTER TABLE dim.Products\r\n",
                "\tADD CONSTRAINT PK_Prods PRIMARY KEY(pkProdId);\r\n",
                "\r\n",
                "\tALTER TABLE dim.Products\r\n",
                "    ADD CONSTRAINT UC_Prods UNIQUE (ProductId);\r\n",
                "END\r\n",
                ";\r\n",
                "GO"
            ],
            "metadata": {
                "azdata_cell_guid": "4ee48006-af2d-406c-a64b-9f2771b7ae46",
                "language": "sql"
            },
            "outputs": [],
            "execution_count": null
        },
        {
            "cell_type": "markdown",
            "source": [
                "**Create the Employees Dim Table**\n",
                "\n",
                "This is the next dimension table we are creating into this schema.\n",
                "\n",
                "The first step is to create the table adding all of the necessary add ons\n",
                "\n",
                "Following is to add any constraints that are needed\n",
                "\n",
                "This will create the dim.Employees table into your schema and you will be able to use it in a sql server"
            ],
            "metadata": {
                "azdata_cell_guid": "ce0c832f-b84a-46e5-bbe1-b6fb904f9c0a"
            },
            "attachments": {}
        },
        {
            "cell_type": "code",
            "source": [
                "IF NOT EXISTS (SELECT * FROM INFORMATION_SCHEMA.TABLES WHERE TABLE_SCHEMA = 'dim' AND TABLE_NAME = 'Employees')\r\n",
                "BEGIN\r\n",
                "CREATE TABLE dim.Employees(\r\n",
                "\tEmployeeID int NOT NULL,\r\n",
                "\tEmployee nvarchar(50) NOT NULL,\r\n",
                "\tTitle nvarchar(30) NULL,\r\n",
                "\tBirthDate datetime NULL,\r\n",
                "\tHireDate datetime NULL,\r\n",
                "\tCity nvarchar(15) NULL,\r\n",
                "\tCountry nvarchar(15) NULL,\r\n",
                "\tReportsTo int NULL\r\n",
                ");\r\n",
                "\tALTER TABLE dim.Employees\r\n",
                "\tADD CONSTRAINT PK_Emp PRIMARY KEY(EmployeeID);\r\n",
                "\r\n",
                "END\r\n",
                "\r\n",
                "GO\r\n",
                ""
            ],
            "metadata": {
                "azdata_cell_guid": "ec301368-3123-449f-8952-2e4a95f78b60",
                "language": "sql"
            },
            "outputs": [],
            "execution_count": null
        },
        {
            "cell_type": "markdown",
            "source": [
                "**<u>Building Fact Tables</u>**\n",
                "\n",
                "Now that we have created all of the tables that we will be using with TargetMart II, we can now build some fact tables which is a crucial part when building a schema.\n",
                "\n",
                "This organizes and structures data to support efficient querying and analysis\n",
                "\n",
                "We will be building two fact tables\n",
                "\n",
                "\\- OrderPerf\n",
                "\n",
                "\\- ProductsPerf"
            ],
            "metadata": {
                "azdata_cell_guid": "55d94019-a78f-4737-a31b-8ec65b8597ea"
            },
            "attachments": {}
        },
        {
            "cell_type": "markdown",
            "source": [
                "Create OrderPerf f.table\n",
                "\n",
                "OrderID, OrderDate, Customer, Freight(f)\n",
                "\n",
                "**OrderPerf Table**<span style=\"color: var(--vscode-foreground);\">.</span>\n",
                "\n",
                "The first step is to create the table adding all of the necessary add ons\n",
                "\n",
                "Following is to add any constraints that are needed\n",
                "\n",
                "This will create the f.OrderPerf table into your schema and you will be able to use it in a sql server"
            ],
            "metadata": {
                "azdata_cell_guid": "75a062ff-16d5-43ba-abc5-9f2555d7664e"
            },
            "attachments": {}
        },
        {
            "cell_type": "code",
            "source": [
                "IF EXISTS (SELECT * FROM INFORMATION_SCHEMA.TABLES WHERE TABLE_SCHEMA = 'f' AND TABLE_NAME = 'OrderPerf')\r\n",
                "BEGIN \r\n",
                "\tDROP TABLE f.OrderPerf;\r\n",
                "END\r\n",
                "\r\n",
                "GO\r\n",
                "\r\n",
                "CREATE TABLE f.OrderPerf(\r\n",
                "\tOrderID int NOT NULL,\r\n",
                "\tfkCalendar int NOT NULL,\r\n",
                "\tfkCustomer int NOT NULL,\r\n",
                "\tfkShipper int NULL,\r\n",
                "\tfkEmployee int NULL,\r\n",
                "\tFreight money NOT NULL,\r\n",
                "\tDaysToShip int NULL,\r\n",
                "\tDaysTilRequired int NULL,\r\n",
                "\tOrderCount int NOT NULL\r\n",
                ");\r\n",
                "\r\n",
                "-- Could use PRIMARY or UNIQUE for the ORDERID - just used to not load dupes\r\n",
                "\r\n",
                "ALTER TABLE f.OrderPerf\r\n",
                "ADD CONSTRAINT PK_ORD PRIMARY KEY(OrderID)\r\n",
                ";\r\n",
                "\r\n",
                "ALTER TABLE f.OrderPerf\r\n",
                "ADD CONSTRAINT FK_ORDtoCAL\r\n",
                "\tFOREIGN KEY (fkCalendar)              -- FROM the LOCAL TABLE\r\n",
                "\t REFERENCES  dim.Calendar(pkCalendar) -- TO the FOREIGN TABLE\r\n",
                ";\r\n",
                "\r\n",
                "ALTER TABLE f.OrderPerf\r\n",
                "ADD CONSTRAINT FK_ORDtoCUST\r\n",
                "\tFOREIGN KEY (fkCustomer)              -- FROM the LOCAL TABLE\r\n",
                "\t REFERENCES  dim.Customers(pkCustomer) -- TO the FOREIGN TABLE\r\n",
                ";\r\n",
                "\r\n",
                "ALTER TABLE f.OrderPerf\r\n",
                "ADD CONSTRAINT FK_ORDtoSHIP\r\n",
                "\tFOREIGN KEY (fkShipper)\r\n",
                "\t REFERENCES dim.Shipper(pkShipId)\r\n",
                ";\r\n",
                "\r\n",
                "ALTER TABLE f.OrderPerf\r\n",
                "ADD CONSTRAINT FK_ORDtoEMP\r\n",
                "\tFOREIGN KEY (fkEmployee)\r\n",
                "\t REFERENCES dim.Employees(EmployeeID)\r\n",
                ";"
            ],
            "metadata": {
                "azdata_cell_guid": "43269249-a273-4426-95eb-1e19039dea41",
                "language": "sql"
            },
            "outputs": [],
            "execution_count": null
        },
        {
            "cell_type": "markdown",
            "source": [
                "**ProductsPerf Table**\n",
                "\n",
                "Next we will be building the ProductsPerf table\n",
                "\n",
                "The first step is to create the table adding all of the necessary add ons\n",
                "\n",
                "Following is to add any constraints that are needed\n",
                "\n",
                "This will create the f.ProductsPerf table into your schema and you will be able to use it in a sql server"
            ],
            "metadata": {
                "azdata_cell_guid": "5ef69ba7-3dff-4efd-bd93-327714620c27"
            },
            "attachments": {}
        },
        {
            "cell_type": "code",
            "source": [
                "IF EXISTS (SELECT * FROM INFORMATION_SCHEMA.TABLES WHERE TABLE_SCHEMA = 'f' AND TABLE_NAME = 'ProductPerf')\r\n",
                "BEGIN \r\n",
                "\tDROP TABLE f.ProductPerf;\r\n",
                "END\r\n",
                "\r\n",
                "CREATE TABLE f.ProductPerf(\r\n",
                "\tOrderID int NOT NULL,\r\n",
                "\tOrderDate int NOT NULL,\r\n",
                "\tProductID int NOT NULL,\r\n",
                "\tCustomerID int NOT NULL,\r\n",
                "\tUnitPrice money NOT NULL,\r\n",
                "\tQuantity smallint NOT NULL,\r\n",
                "\tDiscount float NOT NULL,\r\n",
                "\tDiscFlag int NOT NULL,\r\n",
                "\tLineTotal money NULL\r\n",
                ");\r\n",
                "\r\n",
                "ALTER TABLE f.ProductPerf\r\n",
                "ADD CONSTRAINT PK_ProdPerf PRIMARY KEY(OrderID, ProductID)\r\n",
                "\r\n",
                "ALTER TABLE f.ProductPerf\r\n",
                "ADD CONSTRAINT FK_PRODtoCAL\r\n",
                "\tFOREIGN KEY (OrderDate)\r\n",
                "\t REFERENCES dim.Calendar(pkCalendar)\r\n",
                ";\r\n",
                "\r\n",
                "ALTER TABLE f.ProductPerf\r\n",
                "ADD CONSTRAINT FK_PRODtoPROD\r\n",
                "\tFOREIGN KEY (ProductID)\r\n",
                "\t REFERENCES dim.Products(pkProdId)\r\n",
                ";\r\n",
                "\r\n",
                "ALTER TABLE f.ProductPerf\r\n",
                "ADD CONSTRAINT FK_PRODtoCUST\r\n",
                "\tFOREIGN KEY (CustomerID)\r\n",
                "\t REFERENCES dim.Customers(pkCustomer)\r\n",
                ";"
            ],
            "metadata": {
                "azdata_cell_guid": "35bed26c-a292-4571-bca3-51b3ac20de89",
                "language": "sql"
            },
            "outputs": [],
            "execution_count": null
        },
        {
            "cell_type": "markdown",
            "source": [
                "**Load Customer and Calendar Dimension Data**\n",
                "\n",
                "After creating and building the tables, we can now load different data in order to use this schema in a efficient way.\n",
                "\n",
                "The first step is to load the customer dimension table and the Calendar dimension table using a previouse database.\n",
                "\n",
                "In this case we will be usins Northwind\\_2023 and insert data into these dimension tables"
            ],
            "metadata": {
                "azdata_cell_guid": "828d0856-69d3-477b-91cb-583739a1d464"
            },
            "attachments": {}
        },
        {
            "cell_type": "code",
            "source": [
                "USE TargetMartII;\r\n",
                "GO\r\n",
                "\r\n",
                "/*\r\n",
                "  Load the customer dimension data ...\r\n",
                "*/\r\n",
                "GO\r\n",
                "\r\n",
                "INSERT INTO dim.Customers(CustomerID, Customer, City, Country, LoadDate, SourceCountry)\r\n",
                "\tSELECT nwc.CustomerID\r\n",
                "\t\t  ,nwc.CompanyName \r\n",
                "\t\t  ,nwc.City\r\n",
                "\t\t  ,nwc.Country\r\n",
                "\t\t  ,CAST(getdate() as DATE)\r\n",
                "\t\t  ,concat('Country = ', nwc.Country) \r\n",
                "\tFROM Northwind_2023.dbo.Customers nwc\r\n",
                "\tWHERE nwc.CustomerID not in (SELECT CustomerID FROM dim.Customers)\r\n",
                "\r\n",
                ";\r\n",
                "GO\r\n",
                "\r\n",
                "/*\r\n",
                "  Load the calendar dimension data ...\r\n",
                "*/\r\n",
                "\r\n",
                "IF (SELECT count(*) FROM dim.Calendar) = 0\r\n",
                "BEGIN\r\n",
                "-- Declare variables\r\n",
                "DECLARE @StartDate DATE = '2020-01-01'\r\n",
                "DECLARE @EndDate DATE = DATEADD(year, 0, GETDATE())\r\n",
                "DECLARE @Date DATE = @StartDate\r\n",
                "DECLARE @DayID INT = (datepart(year, @StartDate)-1900)*1000 + datepart(dy, @StartDate)\r\n",
                ";\r\n",
                "\r\n",
                "\r\n",
                "-- Populate the Calendar table\r\n",
                "WHILE @Date <= @EndDate\r\n",
                "\tBEGIN\r\n",
                "\t\tINSERT INTO dim.Calendar (pkCalendar, DateValue, Year, Quarter, Qtr, Month,  MonthName, MonthShort, Week, Day, DayName, DayShort, IsWeekday, Weekday)\r\n",
                "\t\tVALUES (\r\n",
                "\t\t\t@DayID,\r\n",
                "\t\t\t@Date,\r\n",
                "\t\t\tYEAR(@Date),\r\n",
                "\t\t\tDATEPART(QUARTER, @Date),\r\n",
                "\t\t\tCASE WHEN DATEPART(QUARTER, @Date) IN (1) THEN '1st'\r\n",
                "\t\t\t\t WHEN DATEPART(QUARTER, @Date) IN (2) THEN '2nd'\r\n",
                "\t\t\t\t WHEN DATEPART(QUARTER, @Date) IN (3) THEN '3rd'\r\n",
                "\t\t\t\t WHEN DATEPART(QUARTER, @Date) IN (4) THEN '4th'\r\n",
                "\t\t\t\t ELSE '5th'\r\n",
                "\t\t\t\t END,\r\n",
                "\t\t\tMONTH(@Date),\r\n",
                "\t\t\tDATENAME(MONTH, @Date),\r\n",
                "\t\t\tLEFT(DATENAME(MONTH, @Date),3),\r\n",
                "\t\t\tDATEPART(WEEK, @Date),\r\n",
                "\t\t\tDAY(@Date),\r\n",
                "\t\t\tDATENAME(WEEKDAY, @Date),\r\n",
                "\t\t\tLEFT(DATENAME(WEEKDAY, @Date),3),\r\n",
                "\t\t\tCASE WHEN DATEPART(WEEKDAY, @Date) IN (1, 7) THEN 0 ELSE 1 END, -- Set IsWeekday to 0 for Saturday (1) and Sunday (7), and 1 for weekdays\r\n",
                "\t\t\tCASE WHEN DATEPART(WEEKDAY, @Date) IN (1, 7) THEN 'No' ELSE 'Yes' END\r\n",
                "\t )\r\n",
                "\r\n",
                "\t\t-- Increment the date and day ID\r\n",
                "\t\tSET @Date = DATEADD(DAY, 1, @Date)\r\n",
                "\t\tSET @DayID = @DayID + 1\r\n",
                "\tEND\r\n",
                "END\r\n",
                "GO\r\n",
                ""
            ],
            "metadata": {
                "azdata_cell_guid": "5c7b91d3-aeee-4f8e-a3f4-7e1951a25ffe",
                "language": "sql",
                "tags": []
            },
            "outputs": [],
            "execution_count": null
        },
        {
            "cell_type": "markdown",
            "source": [
                "**Load the Shipper Dimension Data**\n",
                "\n",
                "Using the same database, will we be inserting this data into Shipper dimension"
            ],
            "metadata": {
                "azdata_cell_guid": "f3d37a0e-3d17-4126-9c4e-4ead95ca5fce"
            },
            "attachments": {}
        },
        {
            "cell_type": "code",
            "source": [
                "GO\r\n",
                "\r\n",
                "INSERT INTO dim.Shipper(pkShipId, Shipper, Phone)\r\n",
                "SELECT s_sh.ShipperID\r\n",
                "      ,s_sh.CompanyName\r\n",
                "      ,s_sh.Phone\r\n",
                "FROM Northwind_2023.dbo.Shippers s_sh\r\n",
                "WHERE s_sh.ShipperID not in (SELECT pkShipId FROM dim.Shipper)\r\n",
                ";\r\n",
                "GO"
            ],
            "metadata": {
                "azdata_cell_guid": "104139d4-9c78-415b-8237-660a8a417e26",
                "language": "sql"
            },
            "outputs": [],
            "execution_count": null
        },
        {
            "cell_type": "markdown",
            "source": [
                "**Load the Product Dimensions Data**\n",
                "\n",
                "Using the same database, will we be inserting this data into Product dimension"
            ],
            "metadata": {
                "azdata_cell_guid": "6d7eb543-d747-49c4-a064-eb49b599caf3"
            },
            "attachments": {}
        },
        {
            "cell_type": "code",
            "source": [
                "INSERT INTO dim.Products(pkProdId, ProductId, Product, ProductCategory, CategoryDesc, UnitPrice, UnitsInStock, UnitsOnOrder, ReorderLevel, Discontinued, ReorderFlag)\r\n",
                "SELECT prod.ProductID + 10000 as 'pkProdId'\r\n",
                "      , prod.ProductID as 'ProductId'\r\n",
                "      , prod.ProductName as 'Product'\r\n",
                "\t  , cat.CategoryName as 'ProductCategory'\r\n",
                "\t  , cat.[Description] as 'CategoryDesc'\r\n",
                "\t  , prod.UnitPrice\r\n",
                "\t  , prod.UnitsInStock\r\n",
                "\t  , prod.UnitsOnOrder\r\n",
                "\t  , prod.ReorderLevel\r\n",
                "\t  , prod.Discontinued\r\n",
                "\t  , CASE \r\n",
                "\t\t\tWHEN prod.ReorderLevel >= (prod.UnitsInStock + prod.UnitsOnOrder)\r\n",
                "\t\t\t     AND prod.Discontinued = 0\r\n",
                "\t\t\t THEN 'Yes'\r\n",
                "\t      ELSE 'No'\r\n",
                "\t    END as 'ReorderFlag'\r\n",
                "FROM Northwind_2023.dbo.Products prod\r\n",
                "\tINNER JOIN Northwind_2023.dbo.Categories cat\r\n",
                "\tON prod.CategoryID = cat.CategoryID\r\n",
                "WHERE prod.ProductID not in (SELECT ProductId FROM dim.Products)\r\n",
                ";\r\n",
                "\r\n",
                "\r\n",
                "\r\n",
                "GO"
            ],
            "metadata": {
                "azdata_cell_guid": "2eccbdd8-9b41-4950-9c68-a89c579099b4",
                "language": "sql"
            },
            "outputs": [],
            "execution_count": null
        },
        {
            "cell_type": "markdown",
            "source": [
                "**Load the Employees Dimensios Data**\n",
                "\n",
                "Using the same database, will we be inserting this data into Employees dimension"
            ],
            "metadata": {
                "azdata_cell_guid": "95b29be4-217b-409b-a0f1-7e6c1e8af95e"
            },
            "attachments": {}
        },
        {
            "cell_type": "code",
            "source": [
                "INSERT INTO dim.Employees(EmployeeID, Employee, Title, BirthDate, HireDate, City, Country, ReportsTo)\r\n",
                "SELECT sEmp.EmployeeID\r\n",
                "\t  ,concat( sEmp.TitleOfCourtesy, ' ', sEmp.FirstName, ', ', sEmp.LastName)\r\n",
                "      ,sEmp.Title\r\n",
                "      ,sEmp.BirthDate\r\n",
                "      ,sEmp.HireDate\r\n",
                "      ,sEmp.City\r\n",
                "      ,sEmp.Country\r\n",
                "      ,sEmp.ReportsTo\r\n",
                "FROM Northwind_2023.dbo.Employees sEmp\r\n",
                "WHERE sEmp.EmployeeID not in (SELECT EmployeeID FROM dim.Employees)"
            ],
            "metadata": {
                "azdata_cell_guid": "024af63c-4b89-427f-921d-468770781212",
                "language": "sql"
            },
            "outputs": [],
            "execution_count": null
        },
        {
            "cell_type": "markdown",
            "source": [
                "**OrdersPerf Fact Table load**\n",
                "\n",
                "Using the same database, will we be inserting this data into f.OrdersPerf dimension"
            ],
            "metadata": {
                "azdata_cell_guid": "b9a30df5-09db-4b54-97cc-6d5bbc6ec02f"
            },
            "attachments": {}
        },
        {
            "cell_type": "code",
            "source": [
                "TRUNCATE TABLE TargetMart.f.OrderPerf\r\n",
                "GO\r\n",
                "\r\n",
                "INSERT INTO TargetMart.f.OrderPerf(OrderID, fkCalendar, fkCustomer, fkShipper, fkEmployee, Freight, DaysToShip, DaysTilRequired, OrderCount)\r\n",
                "SELECT sO.OrderID\r\n",
                "\t  ,tC.pkCalendar as fkCalendar\r\n",
                "\t  ,tCus.pkCustomer as fkCustomer\r\n",
                "\t  ,sO.ShipVia as fkShipper\r\n",
                "\t  ,sO.EmployeeID as fkEmployee\r\n",
                "\t  ,sO.Freight\r\n",
                "\t  ,DATEDIFF ( day , sO.OrderDate , sO.ShippedDate ) as 'DaysToShip'\r\n",
                "\t  ,DATEDIFF ( day , sO.OrderDate , sO.RequireDate ) as 'DaysTilRequired'\r\n",
                "\t  , 1 as 'OrderCount'\r\n",
                "FROM Northwind_2023.dbo.Orders sO\r\n",
                "\tINNER JOIN TargetMart.dim.Calendar tC\r\n",
                "\tON cast(so.OrderDate as DATE) = tc.DateValue\r\n",
                "\tINNER JOIN TargetMart.dim.Customers tCus\r\n",
                "\tON sO.CustomerID = tCus.CustomerID"
            ],
            "metadata": {
                "azdata_cell_guid": "ecb830f5-dbf9-45a9-af4b-05477d37f0c6",
                "language": "sql"
            },
            "outputs": [],
            "execution_count": null
        },
        {
            "cell_type": "markdown",
            "source": [
                "**ProductsPerf Fact Table Load**\n",
                "\n",
                "Using the same database, will we be inserting this data into f.ProductsPerf dimension \n",
                "\n",
                "This is the last step as now each of the tables that we have created have data that we can use to make queries\n",
                "\n",
                "You will be able to use this data like any other sql database that has been downloaded as you can make or merge queries and even create diagrams."
            ],
            "metadata": {
                "azdata_cell_guid": "4747a254-78d9-4fa4-9077-0cc0cf2f47aa"
            },
            "attachments": {}
        },
        {
            "cell_type": "code",
            "source": [
                "TRUNCATE TABLE TargetMart.f.ProductPerf\r\n",
                "GO\r\n",
                "\r\n",
                "INSERT INTO TargetMart.f.ProductPerf(OrderID, OrderDate, ProductID, CustomerID, UnitPrice, Quantity, Discount, DiscFlag, LineTotal)\r\n",
                "SELECT sDet.OrderID\r\n",
                "      ,tCal.pkCalendar as 'OrderDate'\r\n",
                "      ,sDet.ProductID + 10000 as 'ProductID'\r\n",
                "--\t  ,sOrd.CustomerID\r\n",
                "\t  ,tCust.pkCustomer\r\n",
                "      ,sDet.UnitPrice\r\n",
                "      ,sDet.Quantity\r\n",
                "      ,sDet.Discount\r\n",
                "\t  ,CASE \r\n",
                "\t\t WHEN sDet.Discount = 0 THEN 0\r\n",
                "\t\t ELSE 1\r\n",
                "\t   END as 'DiscFlag'\r\n",
                "\t  ,CAST(((1 - sDet.Discount) * sDet.UnitPrice) * sDet.Quantity as MONEY) as 'LineTotal'\r\n",
                "FROM Northwind_2023.dbo.OrderDetails sDet\r\n",
                "\tINNER JOIN Northwind_2023.dbo.Orders sOrd\r\n",
                "\tON sDet.OrderID = sOrd.OrderID\r\n",
                "\tINNER JOIN dim.Calendar tCal\r\n",
                "\tON CAST(sOrd.OrderDate as DATE) = tCal.DateValue\r\n",
                "\tINNER JOIN dim.Customers tCust\r\n",
                "\tON sOrd.CustomerID = tCust.CustomerID\r\n",
                ";\r\n",
                "\r\n",
                ""
            ],
            "metadata": {
                "azdata_cell_guid": "b21ada3d-41b5-4537-8779-a65c1d528cb7",
                "language": "sql"
            },
            "outputs": [],
            "execution_count": null
        }
    ]
}